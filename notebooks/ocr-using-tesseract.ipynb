{
 "cells": [
  {
   "cell_type": "markdown",
   "metadata": {},
   "source": [
    "# optical character recognition using pytesseract"
   ]
  },
  {
   "cell_type": "markdown",
   "metadata": {},
   "source": [
    "## in this project we will be using computer vision technologies to extract text from images."
   ]
  },
  {
   "cell_type": "markdown",
   "metadata": {},
   "source": [
    "# import libraries"
   ]
  },
  {
   "cell_type": "code",
   "execution_count": 37,
   "metadata": {
    "_cell_guid": "b1076dfc-b9ad-4769-8c92-a6c4dae69d19",
    "_uuid": "8f2839f25d086af736a60e9eeb907d3b93b6e0e5",
    "execution": {
     "iopub.execute_input": "2022-07-31T01:41:57.478688Z",
     "iopub.status.busy": "2022-07-31T01:41:57.477746Z",
     "iopub.status.idle": "2022-07-31T01:41:57.486420Z",
     "shell.execute_reply": "2022-07-31T01:41:57.485301Z",
     "shell.execute_reply.started": "2022-07-31T01:41:57.478648Z"
    }
   },
   "outputs": [],
   "source": [
    "import cv2\n",
    "import pytesseract\n",
    "from PIL import Image\n",
    "import numpy as np\n",
    "from pytesseract import Output\n",
    "import re\n",
    "import matplotlib.pyplot as plt\n",
    "from colorama import Fore, Style\n",
    "import os"
   ]
  },
  {
   "cell_type": "markdown",
   "metadata": {},
   "source": [
    "# test with an image"
   ]
  },
  {
   "cell_type": "code",
   "execution_count": 21,
   "metadata": {
    "execution": {
     "iopub.execute_input": "2022-07-31T01:22:48.772741Z",
     "iopub.status.busy": "2022-07-31T01:22:48.772244Z",
     "iopub.status.idle": "2022-07-31T01:22:53.812791Z",
     "shell.execute_reply": "2022-07-31T01:22:53.811496Z",
     "shell.execute_reply.started": "2022-07-31T01:22:48.772704Z"
    }
   },
   "outputs": [],
   "source": [
    "image = Image.open('../input/book-pages/IMG_20220730_172154.jpg')\n",
    "image.resize((300, 150))\n",
    "image.save('sample1.png')\n",
    "image"
   ]
  },
  {
   "cell_type": "code",
   "execution_count": 22,
   "metadata": {
    "execution": {
     "iopub.execute_input": "2022-07-31T01:23:37.160821Z",
     "iopub.status.busy": "2022-07-31T01:23:37.159791Z",
     "iopub.status.idle": "2022-07-31T01:23:41.132829Z",
     "shell.execute_reply": "2022-07-31T01:23:41.130609Z",
     "shell.execute_reply.started": "2022-07-31T01:23:37.160776Z"
    }
   },
   "outputs": [],
   "source": [
    "custom_config = r'-l eng --oem 3 --psm 6' \n",
    "text = pytesseract.image_to_string(image,config=custom_config)\n",
    "print(text)"
   ]
  },
  {
   "cell_type": "markdown",
   "metadata": {},
   "source": [
    "### it works pretty well"
   ]
  },
  {
   "cell_type": "code",
   "execution_count": 23,
   "metadata": {
    "execution": {
     "iopub.execute_input": "2022-07-31T01:23:49.661150Z",
     "iopub.status.busy": "2022-07-31T01:23:49.660714Z",
     "iopub.status.idle": "2022-07-31T01:23:53.023668Z",
     "shell.execute_reply": "2022-07-31T01:23:53.021463Z",
     "shell.execute_reply.started": "2022-07-31T01:23:49.661111Z"
    }
   },
   "outputs": [],
   "source": [
    "image1 = Image.open('../input/book-pages/IMG_20220730_172224.jpg')\n",
    "image1.resize((300, 150))\n",
    "#image.save('sample1.png')\n",
    "image1"
   ]
  },
  {
   "cell_type": "code",
   "execution_count": 24,
   "metadata": {
    "execution": {
     "iopub.execute_input": "2022-07-31T01:25:26.509753Z",
     "iopub.status.busy": "2022-07-31T01:25:26.509287Z",
     "iopub.status.idle": "2022-07-31T01:25:30.325606Z",
     "shell.execute_reply": "2022-07-31T01:25:30.324017Z",
     "shell.execute_reply.started": "2022-07-31T01:25:26.509719Z"
    }
   },
   "outputs": [],
   "source": [
    "custom_config = r'-l eng --oem 3 --psm 6' \n",
    "text = pytesseract.image_to_string(image1,config=custom_config)\n",
    "print(text)"
   ]
  },
  {
   "cell_type": "markdown",
   "metadata": {},
   "source": [
    "### now lets remove the unwanted characters from the text"
   ]
  },
  {
   "cell_type": "code",
   "execution_count": 25,
   "metadata": {
    "execution": {
     "iopub.execute_input": "2022-07-31T01:30:11.410239Z",
     "iopub.status.busy": "2022-07-31T01:30:11.409801Z",
     "iopub.status.idle": "2022-07-31T01:30:15.006902Z",
     "shell.execute_reply": "2022-07-31T01:30:15.005341Z",
     "shell.execute_reply.started": "2022-07-31T01:30:11.410203Z"
    }
   },
   "outputs": [],
   "source": [
    "try:\n",
    "    text = pytesseract.image_to_string(image1, lang = 'eng')\n",
    "    characters_to_remove = \"!()@—*“>+-/,'|£#%$&^_~\"\n",
    "    new_string = text\n",
    "    for characters in characters_to_remove:\n",
    "        new_string = new_string.replace(characters, '')\n",
    "    print(new_string)\n",
    "except IOError as e:\n",
    "    print(\"Error (%s).\" % e)"
   ]
  },
  {
   "cell_type": "markdown",
   "metadata": {},
   "source": [
    "### we will be using cv2 to work with complex images"
   ]
  },
  {
   "cell_type": "code",
   "execution_count": 26,
   "metadata": {
    "execution": {
     "iopub.execute_input": "2022-07-31T01:31:18.155152Z",
     "iopub.status.busy": "2022-07-31T01:31:18.154757Z",
     "iopub.status.idle": "2022-07-31T01:31:18.484344Z",
     "shell.execute_reply": "2022-07-31T01:31:18.483197Z",
     "shell.execute_reply.started": "2022-07-31T01:31:18.155120Z"
    }
   },
   "outputs": [],
   "source": [
    "image = cv2.imread('sample1.png')\n",
    "image"
   ]
  },
  {
   "cell_type": "markdown",
   "metadata": {},
   "source": [
    "## convert to grayscale\n",
    "### in this way it will be lot more easier to work with"
   ]
  },
  {
   "cell_type": "code",
   "execution_count": 27,
   "metadata": {
    "execution": {
     "iopub.execute_input": "2022-07-31T01:31:30.780238Z",
     "iopub.status.busy": "2022-07-31T01:31:30.779802Z",
     "iopub.status.idle": "2022-07-31T01:31:31.864371Z",
     "shell.execute_reply": "2022-07-31T01:31:31.863169Z",
     "shell.execute_reply.started": "2022-07-31T01:31:30.780203Z"
    }
   },
   "outputs": [],
   "source": [
    "def get_grayscale(image):\n",
    "    return cv2.cvtColor(image, cv2.COLOR_BGR2GRAY)\n",
    "gray = get_grayscale(image)\n",
    "Image.fromarray(gray)\n"
   ]
  },
  {
   "cell_type": "markdown",
   "metadata": {},
   "source": [
    "## remove the noises using medianBlur function "
   ]
  },
  {
   "cell_type": "code",
   "execution_count": 28,
   "metadata": {
    "execution": {
     "iopub.execute_input": "2022-07-31T01:31:51.451483Z",
     "iopub.status.busy": "2022-07-31T01:31:51.450996Z",
     "iopub.status.idle": "2022-07-31T01:31:53.100332Z",
     "shell.execute_reply": "2022-07-31T01:31:53.097882Z",
     "shell.execute_reply.started": "2022-07-31T01:31:51.451448Z"
    }
   },
   "outputs": [],
   "source": [
    "def remove_noise(image):\n",
    "    return cv2.medianBlur(image, 5)\n",
    "noise = remove_noise(gray)\n",
    "Image.fromarray(noise)"
   ]
  },
  {
   "cell_type": "markdown",
   "metadata": {},
   "source": [
    "## Thresholding\n",
    "### thresholding is an interesting operation. if the pixel value is greater than some threshold it will assign 1 to that cell and if not it will assign 0"
   ]
  },
  {
   "cell_type": "code",
   "execution_count": 29,
   "metadata": {
    "execution": {
     "iopub.execute_input": "2022-07-31T01:32:07.560202Z",
     "iopub.status.busy": "2022-07-31T01:32:07.559742Z",
     "iopub.status.idle": "2022-07-31T01:32:07.826135Z",
     "shell.execute_reply": "2022-07-31T01:32:07.824979Z",
     "shell.execute_reply.started": "2022-07-31T01:32:07.560165Z"
    }
   },
   "outputs": [],
   "source": [
    "def thresholding(image):\n",
    "    return cv2.threshold(image, 0, 255, cv2.THRESH_BINARY + cv2.THRESH_OTSU)[1]\n",
    "thresh = thresholding(gray)\n",
    "Image.fromarray(thresh)"
   ]
  },
  {
   "cell_type": "markdown",
   "metadata": {},
   "source": [
    "## erosion \n",
    "### erode operation is very helpful in image manipulation. It usually fits the missing shapes and lattices in the images"
   ]
  },
  {
   "cell_type": "code",
   "execution_count": 30,
   "metadata": {
    "execution": {
     "iopub.execute_input": "2022-07-31T01:32:31.994959Z",
     "iopub.status.busy": "2022-07-31T01:32:31.994558Z",
     "iopub.status.idle": "2022-07-31T01:32:32.999106Z",
     "shell.execute_reply": "2022-07-31T01:32:32.997571Z",
     "shell.execute_reply.started": "2022-07-31T01:32:31.994925Z"
    }
   },
   "outputs": [],
   "source": [
    "def erode(image):\n",
    "    kernel = np.ones((5,5), np.uint8)\n",
    "    return cv2.erode(image, kernel, iterations  = 1)\n",
    "erode = erode(gray)\n",
    "Image.fromarray(erode)"
   ]
  },
  {
   "cell_type": "markdown",
   "metadata": {},
   "source": [
    "## morphological transformation\n",
    "### Morphological transformation is one of the best-suited techniques for binary images where it sorts the image according to its pixel values rather than going for numerical values of the images keeping into account the threshold values too."
   ]
  },
  {
   "cell_type": "code",
   "execution_count": 31,
   "metadata": {
    "execution": {
     "iopub.execute_input": "2022-07-31T01:32:49.964928Z",
     "iopub.status.busy": "2022-07-31T01:32:49.964532Z",
     "iopub.status.idle": "2022-07-31T01:32:50.889909Z",
     "shell.execute_reply": "2022-07-31T01:32:50.888097Z",
     "shell.execute_reply.started": "2022-07-31T01:32:49.964897Z"
    }
   },
   "outputs": [],
   "source": [
    "def opening(image):\n",
    "    kernel = np.ones((5,5), np.uint8)\n",
    "    return cv2.morphologyEx(image,cv2.MORPH_OPEN, kernel)\n",
    "opening = opening(gray)\n",
    "Image.fromarray(opening)"
   ]
  },
  {
   "cell_type": "markdown",
   "metadata": {},
   "source": [
    "## template matching\n",
    "### template matching is a method for searching and finding the location of a template image in a larger image. "
   ]
  },
  {
   "cell_type": "code",
   "execution_count": 32,
   "metadata": {
    "execution": {
     "iopub.execute_input": "2022-07-31T01:33:13.360789Z",
     "iopub.status.busy": "2022-07-31T01:33:13.360398Z",
     "iopub.status.idle": "2022-07-31T01:33:13.955594Z",
     "shell.execute_reply": "2022-07-31T01:33:13.954242Z",
     "shell.execute_reply.started": "2022-07-31T01:33:13.360759Z"
    }
   },
   "outputs": [],
   "source": [
    "def match_template(image, template):\n",
    "    return cv2.matchTemplate(image, template, cv2.TM_CCOEFF_NORMED)\n",
    "match = match_template(gray, gray)\n",
    "match"
   ]
  },
  {
   "cell_type": "markdown",
   "metadata": {},
   "source": [
    "## drawing rectangle araound text\n"
   ]
  },
  {
   "cell_type": "code",
   "execution_count": 33,
   "metadata": {
    "execution": {
     "iopub.execute_input": "2022-07-31T01:33:18.109976Z",
     "iopub.status.busy": "2022-07-31T01:33:18.108934Z",
     "iopub.status.idle": "2022-07-31T01:33:27.133634Z",
     "shell.execute_reply": "2022-07-31T01:33:27.132178Z",
     "shell.execute_reply.started": "2022-07-31T01:33:18.109937Z"
    }
   },
   "outputs": [],
   "source": [
    "img = cv2.imread('sample1.png')\n",
    "h, w, c = img.shape\n",
    "boxes = pytesseract.image_to_boxes(img)\n",
    "for b in boxes.splitlines():\n",
    "    b = b.split(' ')\n",
    "    img = cv2.rectangle(img, (int(b[1]), h - int(b[2])), (int(b[3]), h - int(b[4])),(0, 255, 0), 2)\n",
    "Image.fromarray(img)"
   ]
  },
  {
   "cell_type": "markdown",
   "metadata": {},
   "source": [
    "### Now we will draw rectangle around a specific word. in this case \"India\"."
   ]
  },
  {
   "cell_type": "code",
   "execution_count": 34,
   "metadata": {
    "execution": {
     "iopub.execute_input": "2022-07-31T01:34:28.414358Z",
     "iopub.status.busy": "2022-07-31T01:34:28.413945Z",
     "iopub.status.idle": "2022-07-31T01:34:38.454840Z",
     "shell.execute_reply": "2022-07-31T01:34:38.453353Z",
     "shell.execute_reply.started": "2022-07-31T01:34:28.414322Z"
    }
   },
   "outputs": [],
   "source": [
    "img = cv2.imread('sample1.png')\n",
    "d = pytesseract.image_to_data(img, output_type=Output.DICT)\n",
    "keys = list(d.keys())\n",
    "\n",
    "date_pattern = 'India'\n",
    "\n",
    "n_boxes = len(d['text'])\n",
    "for i in range(n_boxes):\n",
    "    if float(d['conf'][i]) > 60:\n",
    "        if re.match(date_pattern, d['text'][i]):\n",
    "            (x, y, w, h) = (d['left'][i], d['top'][i], d['width'][i], d['height'][i])\n",
    "            img = cv2.rectangle(img, (x, y), (x + w, y + h), (0, 255, 0), 2)\n",
    "Image.fromarray(img)"
   ]
  },
  {
   "cell_type": "markdown",
   "metadata": {},
   "source": [
    "# Adhaar details extraction."
   ]
  },
  {
   "cell_type": "markdown",
   "metadata": {},
   "source": [
    "### Adhaar is an identity proof document in India. it contains fingerpring, address, age and other usefull information. Each adhaar card has a unique Id. Adhaar Id is a 12 digit numerical combination. \n",
    "### In this section we will be extracting information from adhaar cards. \\### images used in this project are taken from google ( without the user's consent). "
   ]
  },
  {
   "cell_type": "code",
   "execution_count": 167,
   "metadata": {
    "execution": {
     "iopub.execute_input": "2022-07-31T03:27:12.804704Z",
     "iopub.status.busy": "2022-07-31T03:27:12.804291Z",
     "iopub.status.idle": "2022-07-31T03:27:12.817353Z",
     "shell.execute_reply": "2022-07-31T03:27:12.815722Z",
     "shell.execute_reply.started": "2022-07-31T03:27:12.804671Z"
    }
   },
   "outputs": [],
   "source": [
    "def extract_details(image_path):\n",
    "    image = cv2.imread(image_path)\n",
    "    image = Image.fromarray(thresholding(get_grayscale(image)))\n",
    "    text = pytesseract.image_to_string(image, lang = 'eng')\n",
    "    text = text.replace(\"\\n\", \" \")\n",
    "    text = text.replace(\"  \", \" \")\n",
    "    regex_NUM = re.compile('\\d{4}')\n",
    "    regex_DOB = re.compile('\\d{2}[-/]\\d{2}[-/]\\d{4}')\n",
    "    regex_NAME = re.compile('[A-Z][a-z]+,?\\s+(?:[A-Z][a-z]*\\.?\\s*)?[A-Z][a-z]+')\n",
    "    \n",
    "    \n",
    "    name = ''\n",
    "    DOB = ''\n",
    "    num = ''\n",
    "    if len(regex_NAME.findall(text)) == 0:\n",
    "        name = \"No Name\"\n",
    "        #print(Style.RESET_ALL)\n",
    "    else:\n",
    "        name = regex_NAME.findall(text)[0]\n",
    "    #print(\"==========================\")\n",
    "    \n",
    "    if len(regex_DOB.findall(text)) == 0:\n",
    "        DOB = \"No DOB\"\n",
    "        #print(Style.RESET_ALL)\n",
    "    else:\n",
    "        DOB = regex_DOB.findall(text)[0]\n",
    "    #print(\"==========================\")\n",
    "    \n",
    "    if len(regex_NUM.findall(text)) < 3:\n",
    "        num = \"No num\"\n",
    "        #print(Style.RESET_ALL)\n",
    "    else:\n",
    "        num = regex_NUM.findall(text)[-3:]\n",
    "    #print(\"==========================\")\n",
    "    return name, DOB, num"
   ]
  },
  {
   "cell_type": "markdown",
   "metadata": {},
   "source": [
    "### The above function extract details from the grayscale and thresholded image"
   ]
  },
  {
   "cell_type": "code",
   "execution_count": 173,
   "metadata": {
    "execution": {
     "iopub.execute_input": "2022-07-31T03:33:28.617323Z",
     "iopub.status.busy": "2022-07-31T03:33:28.616851Z",
     "iopub.status.idle": "2022-07-31T03:33:28.628875Z",
     "shell.execute_reply": "2022-07-31T03:33:28.627733Z",
     "shell.execute_reply.started": "2022-07-31T03:33:28.617285Z"
    }
   },
   "outputs": [],
   "source": [
    "def extract_details1(image_path):\n",
    "    #image = cv2.imread(image_path)\n",
    "    #image = Image.fromarray(thresholding(get_grayscale(image)))\n",
    "    text = pytesseract.image_to_string(Image.open(image_path), lang = 'eng')\n",
    "    text = text.replace(\"\\n\", \" \")\n",
    "    text = text.replace(\"  \", \" \")\n",
    "    regex_NUM = re.compile('\\d{4}')\n",
    "    regex_DOB = re.compile('\\d{2}[-/]\\d{2}[-/]\\d{4}')\n",
    "    regex_NAME = re.compile('[A-Z][a-z]+,?\\s+(?:[A-Z][a-z]*\\.?\\s*)?[A-Z][a-z]+')\n",
    "    \n",
    "    name = ''\n",
    "    DOB = ''\n",
    "    num = ''\n",
    "    if len(regex_NAME.findall(text)) == 0:\n",
    "        name = \"No Name\"\n",
    "        #print(Style.RESET_ALL)\n",
    "    else:\n",
    "        name = regex_NAME.findall(text)[0]\n",
    "    #print(\"==========================\")\n",
    "    \n",
    "    if len(regex_DOB.findall(text)) == 0:\n",
    "        DOB = \"No DOB\"\n",
    "        #print(Style.RESET_ALL)\n",
    "    else:\n",
    "        DOB = regex_DOB.findall(text)[0]\n",
    "    #print(\"==========================\")\n",
    "    \n",
    "    if len(regex_NUM.findall(text)) < 3:\n",
    "        num = \"No num\"\n",
    "        #print(Style.RESET_ALL)\n",
    "    else:\n",
    "        num = regex_NUM.findall(text)[-3:]\n",
    "    #print(\"==========================\")\n",
    "    return name, DOB, num"
   ]
  },
  {
   "cell_type": "markdown",
   "metadata": {},
   "source": [
    "### The above function extracts information from original images"
   ]
  },
  {
   "cell_type": "markdown",
   "metadata": {},
   "source": [
    "### Now let's merge those imformation "
   ]
  },
  {
   "cell_type": "code",
   "execution_count": 159,
   "metadata": {
    "execution": {
     "iopub.execute_input": "2022-07-31T03:24:30.010522Z",
     "iopub.status.busy": "2022-07-31T03:24:30.009114Z",
     "iopub.status.idle": "2022-07-31T03:24:30.020401Z",
     "shell.execute_reply": "2022-07-31T03:24:30.019167Z",
     "shell.execute_reply.started": "2022-07-31T03:24:30.010437Z"
    }
   },
   "outputs": [],
   "source": [
    "def extract(image_path):\n",
    "    image = cv2.imread(os.path.join(image_path))\n",
    "    image = cv2.cvtColor(image, cv2.COLOR_BGR2RGB)\n",
    "    plt.imshow(image)\n",
    "    plt.axis(\"off\")\n",
    "    \n",
    "    n1, d1, A1 = extract_details(image_path)\n",
    "    n2, d2, A2 = extract_details1(image_path)\n",
    "    if n1 != 'No Name':\n",
    "        print(\"Name :\", n1)\n",
    "    elif n2 != 'No Name':\n",
    "        print(\"Name :\", n2)\n",
    "    else:\n",
    "        print(f'Blurry Image for tesseract. Input new clear image for viewing name !!!')\n",
    "    print(\"===================\")\n",
    "    if d1 != 'No DOB':\n",
    "        print(\"Date of Birth :\", d1)\n",
    "    elif d2 != 'No DOB':\n",
    "        print(\"Date of Birth :\", d2)\n",
    "    else:\n",
    "        print(f'Blurry Image for tesseract. Input new clear image for viewing Date of Birth !!!')\n",
    "    print(\"===================\")\n",
    "    if A1 != 'No num':\n",
    "        print(\"Adhaar card number :\", \" \".join(A1))\n",
    "    elif A2 != 'No num':\n",
    "        print(\"Adhaar card number :\", \" \".join(A2))\n",
    "    else:\n",
    "        print(f'Blurry Image for tesseract. Input new clear image for viewing Adhaar card number !!!')\n",
    "    "
   ]
  },
  {
   "cell_type": "markdown",
   "metadata": {},
   "source": [
    "### Now let's try out our performences"
   ]
  },
  {
   "cell_type": "code",
   "execution_count": 177,
   "metadata": {
    "execution": {
     "iopub.execute_input": "2022-07-31T03:34:08.428574Z",
     "iopub.status.busy": "2022-07-31T03:34:08.427688Z",
     "iopub.status.idle": "2022-07-31T03:34:11.393941Z",
     "shell.execute_reply": "2022-07-31T03:34:11.392551Z",
     "shell.execute_reply.started": "2022-07-31T03:34:08.428509Z"
    }
   },
   "outputs": [],
   "source": [
    "extract('../input/adhaar/Aadhar_Card.jpg')"
   ]
  },
  {
   "cell_type": "code",
   "execution_count": 176,
   "metadata": {
    "execution": {
     "iopub.execute_input": "2022-07-31T03:33:57.505845Z",
     "iopub.status.busy": "2022-07-31T03:33:57.504779Z",
     "iopub.status.idle": "2022-07-31T03:33:58.281926Z",
     "shell.execute_reply": "2022-07-31T03:33:58.280656Z",
     "shell.execute_reply.started": "2022-07-31T03:33:57.505804Z"
    }
   },
   "outputs": [],
   "source": [
    "extract(\"../input/adhaar/card2.jpg\")"
   ]
  },
  {
   "cell_type": "code",
   "execution_count": 178,
   "metadata": {
    "execution": {
     "iopub.execute_input": "2022-07-31T03:37:35.841716Z",
     "iopub.status.busy": "2022-07-31T03:37:35.840575Z",
     "iopub.status.idle": "2022-07-31T03:37:36.744812Z",
     "shell.execute_reply": "2022-07-31T03:37:36.743333Z",
     "shell.execute_reply.started": "2022-07-31T03:37:35.841665Z"
    }
   },
   "outputs": [],
   "source": [
    "extract(\"../input/adhaar/thumb1.jpg\")"
   ]
  },
  {
   "cell_type": "code",
   "execution_count": 180,
   "metadata": {
    "execution": {
     "iopub.execute_input": "2022-07-31T03:37:58.303975Z",
     "iopub.status.busy": "2022-07-31T03:37:58.302669Z",
     "iopub.status.idle": "2022-07-31T03:37:59.193784Z",
     "shell.execute_reply": "2022-07-31T03:37:59.192490Z",
     "shell.execute_reply.started": "2022-07-31T03:37:58.303922Z"
    }
   },
   "outputs": [],
   "source": [
    "extract(\"../input/adhaar/astha.jpeg\")"
   ]
  },
  {
   "cell_type": "code",
   "execution_count": 181,
   "metadata": {
    "execution": {
     "iopub.execute_input": "2022-07-31T03:38:14.995134Z",
     "iopub.status.busy": "2022-07-31T03:38:14.994695Z",
     "iopub.status.idle": "2022-07-31T03:38:15.873422Z",
     "shell.execute_reply": "2022-07-31T03:38:15.872037Z",
     "shell.execute_reply.started": "2022-07-31T03:38:14.995097Z"
    }
   },
   "outputs": [],
   "source": [
    "extract(\"../input/adhaar/abdul.jpg\")"
   ]
  },
  {
   "cell_type": "markdown",
   "metadata": {},
   "source": [
    "### pretty good actually"
   ]
  },
  {
   "cell_type": "code",
   "execution_count": null,
   "metadata": {},
   "outputs": [],
   "source": [
    "end "
   ]
  }
 ],
 "metadata": {
  "kernelspec": {
   "display_name": "Python 3",
   "language": "python",
   "name": "python3"
  },
  "language_info": {
   "codemirror_mode": {
    "name": "ipython",
    "version": 3
   },
   "file_extension": ".py",
   "mimetype": "text/x-python",
   "name": "python",
   "nbconvert_exporter": "python",
   "pygments_lexer": "ipython3",
   "version": "3.8.3"
  }
 },
 "nbformat": 4,
 "nbformat_minor": 4
}
